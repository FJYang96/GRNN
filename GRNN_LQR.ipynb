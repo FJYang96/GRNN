{
 "cells": [
  {
   "cell_type": "markdown",
   "metadata": {},
   "source": [
    "# Designing Communication Topologies via Graph Neural Networks\n",
    "Fengjun Yang, Anish Battacharya, Nikolai Matni (2021)"
   ]
  },
  {
   "cell_type": "code",
   "execution_count": 218,
   "metadata": {
    "id": "XLvvXP0jpc7A"
   },
   "outputs": [],
   "source": [
    "%load_ext autoreload\n",
    "%autoreload 2\n",
    "\n",
    "# Useful Libraries\n",
    "import torch\n",
    "import numpy as np\n",
    "import matplotlib.pyplot as plt\n",
    "import torch.nn.functional as F\n",
    "import torch.nn as nn\n",
    "import torch.optim as optim\n",
    "import networkx as nx\n",
    "\n",
    "# Source Files\n",
    "import grnn, exp_utils, controller\n",
    "import env.dlqr\n",
    "\n",
    "# Other bookkeeping\n",
    "%matplotlib inline\n",
    "np.set_printoptions(precision=3)\n",
    "device = 'cuda' if torch.cuda.is_available() else 'cpu'\n",
    "device = 'cpu'"
   ]
  },
  {
   "cell_type": "markdown",
   "metadata": {},
   "source": [
    "## How to train and run the GRNN model"
   ]
  },
  {
   "cell_type": "code",
   "execution_count": 221,
   "metadata": {},
   "outputs": [],
   "source": [
    "# Create an environment\n",
    "N = 20\n",
    "T = 50\n",
    "p, q = 1, 1\n",
    "degree = 5 + 1     # All nodes are assumed to have a self-loop, hence the +1\n",
    "\n",
    "# Generate environment (here an LQR environment)\n",
    "dlqrenv, G = env.dlqr.generate_lq_env(N, degree, device)\n",
    "nx.draw_kamada_kawai(G)"
   ]
  },
  {
   "cell_type": "code",
   "execution_count": 223,
   "metadata": {
    "id": "-NIOjjg4LEKJ"
   },
   "outputs": [],
   "source": [
    "# Define training loss\n",
    "def criterion(x_traj, u_traj, env, model):\n",
    "    return env.cost(x_traj, u_traj)"
   ]
  },
  {
   "cell_type": "code",
   "execution_count": 224,
   "metadata": {
    "id": "9u-g839FK902"
   },
   "outputs": [],
   "source": [
    "# Create model\n",
    "hidden_state_dim = 5\n",
    "S = dlqrenv.S.clone()\n",
    "model = grnn.GRNN(S, N, T, p, q, hidden_state_dim, S_trainable=True).to(device)"
   ]
  },
  {
   "cell_type": "code",
   "execution_count": 225,
   "metadata": {
    "colab": {
     "base_uri": "https://localhost:8080/"
    },
    "id": "mcttoI8RXlkS",
    "outputId": "9afcdacf-97f9-410e-af96-6b9e64ba3741"
   },
   "outputs": [
    {
     "name": "stdout",
     "output_type": "stream",
     "text": [
      "Epoch: 1 \t Loss: 2402.880395271219\n",
      "Epoch: 11 \t Loss: 19.815188514410387\n",
      "Epoch: 21 \t Loss: 19.48428334850779\n",
      "Epoch: 31 \t Loss: 20.77766577247454\n",
      "Epoch: 41 \t Loss: 21.928673545440617\n",
      "Epoch: 51 \t Loss: 21.6360570042124\n",
      "Epoch: 61 \t Loss: 20.312759913806023\n",
      "Epoch: 71 \t Loss: 23.146689814935165\n",
      "Epoch: 81 \t Loss: 25.484741933340423\n",
      "Epoch: 91 \t Loss: 24.660094906109183\n"
     ]
    }
   ],
   "source": [
    "# Train model\n",
    "model = exp_utils.train_model(model, dlqrenv, criterion, num_epoch=100, verbose=True)"
   ]
  },
  {
   "cell_type": "code",
   "execution_count": 226,
   "metadata": {},
   "outputs": [],
   "source": [
    "# Define controllers we want to compare to\n",
    "lqrctrl = dlqrenv.get_optimal_controller()\n",
    "grnnctrl = model.get_controller()\n",
    "zeroctrl = controller.ZeroController(N, q)\n",
    "randctrl = controller.RandomController(N, q)\n",
    "controllers = [lqrctrl, grnnctrl, zeroctrl, randctrl]\n",
    "names = ['Global Optimal', 'GRNN', 'Autonomous', 'Random']"
   ]
  },
  {
   "cell_type": "code",
   "execution_count": 227,
   "metadata": {},
   "outputs": [],
   "source": [
    "# Simulate each controller forward from the same initial condition\n",
    "x0 = dlqrenv.random_x0()\n",
    "xs, us, costs = exp_utils.sim_controllers(dlqrenv, x0, controllers, T, x0.device)\n",
    "exp_utils.plot_controllers(xs, names, costs, 0)"
   ]
  },
  {
   "cell_type": "markdown",
   "metadata": {},
   "source": [
    "## Experiment 1: GRNN on LQR Systems with Given Communication Topology"
   ]
  },
  {
   "cell_type": "code",
   "execution_count": 382,
   "metadata": {},
   "outputs": [],
   "source": [
    "# Parameters for the model\n",
    "model_params = {\n",
    "    'N':20,\n",
    "    'T':50,\n",
    "    'p':1,\n",
    "    'q':1,\n",
    "    'h':5,\n",
    "    'S_trainable':True\n",
    "}\n",
    "use_given_support = True\n",
    "\n",
    "# Additional controllers to compare to\n",
    "zeroctrl = controller.ZeroController(N, q)\n",
    "randctrl = controller.RandomController(N, q)\n",
    "additional_controllers = [zeroctrl, randctrl]\n",
    "num_controllers = len(additional_controllers) + 2\n",
    "\n",
    "# Training loss\n",
    "def criterion(x_traj, u_traj, env, model):\n",
    "    return env.cost(x_traj, u_traj)\n",
    "\n",
    "# Experiment parameters\n",
    "num_topologies = 50\n",
    "num_x0s = 100\n",
    "num_epoch = 100\n",
    "verbose = True"
   ]
  },
  {
   "cell_type": "code",
   "execution_count": 383,
   "metadata": {},
   "outputs": [
    {
     "name": "stdout",
     "output_type": "stream",
     "text": [
      "Iteration 1:\t[ 1.     1.141  2.521 72.153]\n",
      "Iteration 2:\t[ 1.     1.192  2.24  64.444]\n",
      "Iteration 3:\t[ 1.     1.156  1.881 64.524]\n",
      "Iteration 4:\t[ 1.     1.144  1.995 63.525]\n",
      "Iteration 5:\t[ 1.     1.127  1.815 64.016]\n",
      "Iteration 6:\t[ 1.     1.12   1.848 64.135]\n",
      "Iteration 7:\t[ 1.     1.115  1.943 66.446]\n",
      "Iteration 8:\t[ 1.     1.149  2.056 71.322]\n",
      "Iteration 9:\t[ 1.     1.148  2.116 71.41 ]\n",
      "Iteration 10:\t[ 1.     1.138  2.021 68.677]\n",
      "Iteration 11:\t[ 1.     1.152  1.984 67.227]\n",
      "Iteration 12:\t[ 1.     1.169  2.008 66.935]\n",
      "Iteration 13:\t[ 1.     1.164  2.023 65.35 ]\n",
      "Iteration 14:\t[ 1.     1.177  2.053 65.54 ]\n",
      "Iteration 15:\t[ 1.     1.178  2.012 65.489]\n",
      "Iteration 16:\t[ 1.     1.176  1.991 65.705]\n",
      "Iteration 17:\t[ 1.     1.184  1.966 64.339]\n",
      "Iteration 18:\t[ 1.     1.18   2.001 66.004]\n",
      "Iteration 19:\t[ 1.     1.175  2.014 66.336]\n",
      "Iteration 20:\t[ 1.     1.17   1.98  66.544]\n",
      "Iteration 21:\t[ 1.     1.176  1.997 66.996]\n",
      "Iteration 22:\t[ 1.     1.225  1.985 66.728]\n",
      "Iteration 23:\t[ 1.     1.221  1.966 66.494]\n",
      "Iteration 24:\t[ 1.     1.218  1.975 66.982]\n",
      "Iteration 25:\t[ 1.     1.215  1.996 66.837]\n",
      "Iteration 26:\t[ 1.     1.21   2.006 67.241]\n",
      "Iteration 27:\t[ 1.     1.221  2.011 66.678]\n",
      "Iteration 28:\t[ 1.     1.218  2.016 66.243]\n",
      "Iteration 29:\t[ 1.     1.217  2.027 66.22 ]\n",
      "Iteration 30:\t[ 1.     1.213  2.02  66.181]\n",
      "Iteration 31:\t[ 1.     1.211  2.038 67.49 ]\n",
      "Iteration 32:\t[ 1.     1.215  2.057 67.439]\n",
      "Iteration 33:\t[ 1.     1.218  2.054 67.128]\n",
      "Iteration 34:\t[ 1.     1.219  2.055 66.772]\n",
      "Iteration 35:\t[ 1.     1.218  2.053 66.353]\n",
      "Iteration 36:\t[ 1.     1.216  2.074 66.545]\n"
     ]
    },
    {
     "ename": "KeyboardInterrupt",
     "evalue": "",
     "output_type": "error",
     "traceback": [
      "\u001b[0;31m---------------------------------------------------------------------------\u001b[0m",
      "\u001b[0;31mKeyboardInterrupt\u001b[0m                         Traceback (most recent call last)",
      "\u001b[0;32m<ipython-input-383-00aa0db5f345>\u001b[0m in \u001b[0;36m<module>\u001b[0;34m\u001b[0m\n\u001b[1;32m     13\u001b[0m         \u001b[0mS\u001b[0m \u001b[0;34m=\u001b[0m \u001b[0;32mNone\u001b[0m\u001b[0;34m\u001b[0m\u001b[0;34m\u001b[0m\u001b[0m\n\u001b[1;32m     14\u001b[0m     \u001b[0mmodel\u001b[0m \u001b[0;34m=\u001b[0m \u001b[0mgrnn\u001b[0m\u001b[0;34m.\u001b[0m\u001b[0mGRNN\u001b[0m\u001b[0;34m(\u001b[0m\u001b[0mS\u001b[0m\u001b[0;34m,\u001b[0m \u001b[0;34m**\u001b[0m\u001b[0mmodel_params\u001b[0m\u001b[0;34m)\u001b[0m\u001b[0;34m.\u001b[0m\u001b[0mto\u001b[0m\u001b[0;34m(\u001b[0m\u001b[0mdevice\u001b[0m\u001b[0;34m)\u001b[0m\u001b[0;34m\u001b[0m\u001b[0;34m\u001b[0m\u001b[0m\n\u001b[0;32m---> 15\u001b[0;31m     \u001b[0mmodel\u001b[0m \u001b[0;34m=\u001b[0m \u001b[0mexp_utils\u001b[0m\u001b[0;34m.\u001b[0m\u001b[0mtrain_model\u001b[0m\u001b[0;34m(\u001b[0m\u001b[0mmodel\u001b[0m\u001b[0;34m,\u001b[0m \u001b[0mdlqrenv\u001b[0m\u001b[0;34m,\u001b[0m \u001b[0mcriterion\u001b[0m\u001b[0;34m,\u001b[0m \u001b[0mnum_epoch\u001b[0m\u001b[0;34m=\u001b[0m\u001b[0mnum_epoch\u001b[0m\u001b[0;34m)\u001b[0m\u001b[0;34m\u001b[0m\u001b[0;34m\u001b[0m\u001b[0m\n\u001b[0m\u001b[1;32m     16\u001b[0m \u001b[0;34m\u001b[0m\u001b[0m\n\u001b[1;32m     17\u001b[0m     \u001b[0;31m# Test the performance of GRNN on this env\u001b[0m\u001b[0;34m\u001b[0m\u001b[0;34m\u001b[0m\u001b[0;34m\u001b[0m\u001b[0m\n",
      "\u001b[0;32m~/Documents/Research/GNN/exp_utils.py\u001b[0m in \u001b[0;36mtrain_model\u001b[0;34m(model, env, criterion, batch_size, num_epoch, verbose)\u001b[0m\n\u001b[1;32m     22\u001b[0m         \u001b[0;32mif\u001b[0m\u001b[0;34m(\u001b[0m\u001b[0mverbose\u001b[0m \u001b[0;32mand\u001b[0m \u001b[0mepoch\u001b[0m \u001b[0;34m%\u001b[0m \u001b[0;36m10\u001b[0m \u001b[0;34m==\u001b[0m \u001b[0;36m0\u001b[0m\u001b[0;34m)\u001b[0m\u001b[0;34m:\u001b[0m\u001b[0;34m\u001b[0m\u001b[0;34m\u001b[0m\u001b[0m\n\u001b[1;32m     23\u001b[0m             \u001b[0mprint\u001b[0m\u001b[0;34m(\u001b[0m\u001b[0;34m'Epoch: {} \\t Loss: {}'\u001b[0m\u001b[0;34m.\u001b[0m\u001b[0mformat\u001b[0m\u001b[0;34m(\u001b[0m\u001b[0mepoch\u001b[0m\u001b[0;34m+\u001b[0m\u001b[0;36m1\u001b[0m\u001b[0;34m,\u001b[0m \u001b[0mloss\u001b[0m\u001b[0;34m.\u001b[0m\u001b[0mitem\u001b[0m\u001b[0;34m(\u001b[0m\u001b[0;34m)\u001b[0m\u001b[0;34m)\u001b[0m\u001b[0;34m)\u001b[0m\u001b[0;34m\u001b[0m\u001b[0;34m\u001b[0m\u001b[0m\n\u001b[0;32m---> 24\u001b[0;31m         \u001b[0mloss\u001b[0m\u001b[0;34m.\u001b[0m\u001b[0mbackward\u001b[0m\u001b[0;34m(\u001b[0m\u001b[0;34m)\u001b[0m\u001b[0;34m\u001b[0m\u001b[0;34m\u001b[0m\u001b[0m\n\u001b[0m\u001b[1;32m     25\u001b[0m         \u001b[0mtorch\u001b[0m\u001b[0;34m.\u001b[0m\u001b[0mnn\u001b[0m\u001b[0;34m.\u001b[0m\u001b[0mutils\u001b[0m\u001b[0;34m.\u001b[0m\u001b[0mclip_grad_norm_\u001b[0m\u001b[0;34m(\u001b[0m\u001b[0mmodel\u001b[0m\u001b[0;34m.\u001b[0m\u001b[0mparameters\u001b[0m\u001b[0;34m(\u001b[0m\u001b[0;34m)\u001b[0m\u001b[0;34m,\u001b[0m \u001b[0;36m10\u001b[0m\u001b[0;34m)\u001b[0m\u001b[0;34m\u001b[0m\u001b[0;34m\u001b[0m\u001b[0m\n\u001b[1;32m     26\u001b[0m         \u001b[0moptimizer\u001b[0m\u001b[0;34m.\u001b[0m\u001b[0mstep\u001b[0m\u001b[0;34m(\u001b[0m\u001b[0;34m)\u001b[0m\u001b[0;34m\u001b[0m\u001b[0;34m\u001b[0m\u001b[0m\n",
      "\u001b[0;32m~/.virtualenvs/general/lib/python3.8/site-packages/torch/tensor.py\u001b[0m in \u001b[0;36mbackward\u001b[0;34m(self, gradient, retain_graph, create_graph)\u001b[0m\n\u001b[1;32m    183\u001b[0m                 \u001b[0mproducts\u001b[0m\u001b[0;34m.\u001b[0m \u001b[0mDefaults\u001b[0m \u001b[0mto\u001b[0m\u001b[0;31m \u001b[0m\u001b[0;31m`\u001b[0m\u001b[0;31m`\u001b[0m\u001b[0;32mFalse\u001b[0m\u001b[0;31m`\u001b[0m\u001b[0;31m`\u001b[0m\u001b[0;34m.\u001b[0m\u001b[0;34m\u001b[0m\u001b[0;34m\u001b[0m\u001b[0m\n\u001b[1;32m    184\u001b[0m         \"\"\"\n\u001b[0;32m--> 185\u001b[0;31m         \u001b[0mtorch\u001b[0m\u001b[0;34m.\u001b[0m\u001b[0mautograd\u001b[0m\u001b[0;34m.\u001b[0m\u001b[0mbackward\u001b[0m\u001b[0;34m(\u001b[0m\u001b[0mself\u001b[0m\u001b[0;34m,\u001b[0m \u001b[0mgradient\u001b[0m\u001b[0;34m,\u001b[0m \u001b[0mretain_graph\u001b[0m\u001b[0;34m,\u001b[0m \u001b[0mcreate_graph\u001b[0m\u001b[0;34m)\u001b[0m\u001b[0;34m\u001b[0m\u001b[0;34m\u001b[0m\u001b[0m\n\u001b[0m\u001b[1;32m    186\u001b[0m \u001b[0;34m\u001b[0m\u001b[0m\n\u001b[1;32m    187\u001b[0m     \u001b[0;32mdef\u001b[0m \u001b[0mregister_hook\u001b[0m\u001b[0;34m(\u001b[0m\u001b[0mself\u001b[0m\u001b[0;34m,\u001b[0m \u001b[0mhook\u001b[0m\u001b[0;34m)\u001b[0m\u001b[0;34m:\u001b[0m\u001b[0;34m\u001b[0m\u001b[0;34m\u001b[0m\u001b[0m\n",
      "\u001b[0;32m~/.virtualenvs/general/lib/python3.8/site-packages/torch/autograd/__init__.py\u001b[0m in \u001b[0;36mbackward\u001b[0;34m(tensors, grad_tensors, retain_graph, create_graph, grad_variables)\u001b[0m\n\u001b[1;32m    123\u001b[0m         \u001b[0mretain_graph\u001b[0m \u001b[0;34m=\u001b[0m \u001b[0mcreate_graph\u001b[0m\u001b[0;34m\u001b[0m\u001b[0;34m\u001b[0m\u001b[0m\n\u001b[1;32m    124\u001b[0m \u001b[0;34m\u001b[0m\u001b[0m\n\u001b[0;32m--> 125\u001b[0;31m     Variable._execution_engine.run_backward(\n\u001b[0m\u001b[1;32m    126\u001b[0m         \u001b[0mtensors\u001b[0m\u001b[0;34m,\u001b[0m \u001b[0mgrad_tensors\u001b[0m\u001b[0;34m,\u001b[0m \u001b[0mretain_graph\u001b[0m\u001b[0;34m,\u001b[0m \u001b[0mcreate_graph\u001b[0m\u001b[0;34m,\u001b[0m\u001b[0;34m\u001b[0m\u001b[0;34m\u001b[0m\u001b[0m\n\u001b[1;32m    127\u001b[0m         allow_unreachable=True)  # allow_unreachable flag\n",
      "\u001b[0;31mKeyboardInterrupt\u001b[0m: "
     ]
    }
   ],
   "source": [
    "# Evaluate the performance of GRNN\n",
    "total_rel_costs = np.zeros(num_controllers)\n",
    "relative_ind = 0\n",
    "\n",
    "for counter in range(num_topologies):\n",
    "    # Generate an environment\n",
    "    dlqrenv, G = env.dlqr.generate_lq_env(N, degree, device)\n",
    "    \n",
    "    # Generate and train model\n",
    "    if use_given_support:\n",
    "        S = dlqrenv.S.clone()\n",
    "    else:\n",
    "        S = None\n",
    "    model = grnn.GRNN(S, **model_params).to(device)\n",
    "    model = exp_utils.train_model(model, dlqrenv, criterion, num_epoch=num_epoch)\n",
    "    \n",
    "    # Test the performance of GRNN on this env\n",
    "    total_rel_costs += exp_utils.estimate_grnn_cost(\n",
    "        dlqrenv, model, T, additional_controllers, num_x0s=num_x0s)\n",
    "    \n",
    "    # Print progress\n",
    "    if verbose:\n",
    "        print('Iteration {}:\\t{}'.format(counter+1, total_rel_costs / (counter+1)))\n",
    "\n",
    "# Print result\n",
    "print(total_rel_costs / num_topologies)"
   ]
  },
  {
   "cell_type": "markdown",
   "metadata": {},
   "source": [
    "## Experiment 2: Generate Communication Topology w/ GRNN"
   ]
  },
  {
   "cell_type": "code",
   "execution_count": 359,
   "metadata": {},
   "outputs": [],
   "source": [
    "# Parameters for the model\n",
    "model_params = {\n",
    "    'N':20,\n",
    "    'T':50,\n",
    "    'p':1,\n",
    "    'q':1,\n",
    "    'h':5,\n",
    "    'S_trainable':True\n",
    "}\n",
    "use_given_support = False\n",
    "\n",
    "# Additional controllers to compare to\n",
    "zeroctrl = controller.ZeroController(N, q)\n",
    "randctrl = controller.RandomController(N, q)\n",
    "additional_controllers = [zeroctrl, randctrl]\n",
    "num_controllers = len(additional_controllers) + 2\n",
    "\n",
    "# Training loss\n",
    "beta = 1\n",
    "def criterion(x_traj, u_traj, env, model):\n",
    "    global beta\n",
    "    return env.cost(x_traj, u_traj) + beta * torch.sum(torch.abs(model.S_()))\n",
    "\n",
    "# Experiment parameters\n",
    "num_epoch = 100\n",
    "batch_size = 20\n",
    "verbose = True\n",
    "threshold = 1e-3\n",
    "betas = np.logspace(-5, 2, 10)"
   ]
  },
  {
   "cell_type": "code",
   "execution_count": 360,
   "metadata": {},
   "outputs": [],
   "source": [
    "S_weights = np.zeros((len(betas), N*N))\n",
    "costs = np.zeros(len(betas))\n",
    "\n",
    "dlqrenv, G = env.dlqr.generate_lq_env(N, degree, device)\n",
    "for i, beta in enumerate(betas):\n",
    "    grnn_S = exp_utils.grnn_topology(\n",
    "        dlqrenv, criterion, model_params, threshold, device, num_epoch=num_epoch)\n",
    "    S_weights[i] = grnn_S.cpu().numpy().flatten()\n",
    "    new_S = grnn_S.clone()\n",
    "    new_S[new_S < threshold] = 0\n",
    "    model = grnn.GRNN(S, **model_params).to(device)\n",
    "    model = exp_utils.train_model(model, dlqrenv, criterion, num_epoch=num_epoch)\n",
    "    costs[i] = exp_utils.estimate_grnn_cost(dlqrenv, model, T)[1]"
   ]
  },
  {
   "cell_type": "code",
   "execution_count": 379,
   "metadata": {},
   "outputs": [
    {
     "data": {
      "text/plain": [
       "Text(0, 0.5, 'LQR Cost')"
      ]
     },
     "execution_count": 379,
     "metadata": {},
     "output_type": "execute_result"
    },
    {
     "data": {
      "image/png": "[encoded data removed]",
      "text/plain": [
       "<Figure size 432x288 with 2 Axes>"
      ]
     },
     "metadata": {
      "needs_background": "light"
     },
     "output_type": "display_data"
    }
   ],
   "source": [
    "fig = plt.figure()\n",
    "ax = plt.gca()\n",
    "ax.set_xscale('log')\n",
    "for i, beta in enumerate(betas):\n",
    "    ax.scatter(np.ones(N*N)*beta, S_weights[i], c='tab:blue', alpha=0.3, edgecolors='none')\n",
    "    \n",
    "ax.set_xlabel('betas')\n",
    "ax.set_ylabel('edge weights', color='tab:blue')\n",
    "\n",
    "ax2 = ax.twinx()\n",
    "ax2.plot(betas, costs, c='tab:red')\n",
    "ax2.set_ylabel('LQR Cost', color='tab:red')\n",
    "#plt.savefig('losssparsity.png', dpi=300)"
   ]
  },
  {
   "cell_type": "markdown",
   "metadata": {},
   "source": [
    "## Experiment 3: Unstable A"
   ]
  },
  {
   "cell_type": "code",
   "execution_count": 329,
   "metadata": {},
   "outputs": [
    {
     "name": "stdout",
     "output_type": "stream",
     "text": [
      "1.0\n",
      "tensor(1.5838, dtype=torch.float64)\n"
     ]
    },
    {
     "data": {
      "text/plain": [
       "(4, 7)"
      ]
     },
     "execution_count": 329,
     "metadata": {},
     "output_type": "execute_result"
    }
   ],
   "source": [
    "dlqrenv, G = env.dlqr.generate_lq_env(20, 5, device, A_norm=1, AB_hops=3)\n",
    "nx.radius(G), nx.diameter(G)"
   ]
  },
  {
   "cell_type": "code",
   "execution_count": 327,
   "metadata": {},
   "outputs": [
    {
     "name": "stdout",
     "output_type": "stream",
     "text": [
      "0.9999999999999996\n"
     ]
    }
   ],
   "source": [
    "print(np.linalg.norm(dlqrenv.A, ord=2))"
   ]
  }
 ],
 "metadata": {
  "accelerator": "GPU",
  "colab": {
   "collapsed_sections": [],
   "name": "GRNN-LQR.ipynb",
   "provenance": []
  },
  "kernelspec": {
   "display_name": "Python 3",
   "language": "python",
   "name": "python3"
  },
  "language_info": {
   "codemirror_mode": {
    "name": "ipython",
    "version": 3
   },
   "file_extension": ".py",
   "mimetype": "text/x-python",
   "name": "python",
   "nbconvert_exporter": "python",
   "pygments_lexer": "ipython3",
   "version": "3.8.5"
  }
 },
 "nbformat": 4,
 "nbformat_minor": 1
}
