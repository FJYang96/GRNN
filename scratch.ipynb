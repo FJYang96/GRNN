{
 "cells": [
  {
   "cell_type": "code",
   "execution_count": 159,
   "metadata": {},
   "outputs": [
    {
     "name": "stdout",
     "output_type": "stream",
     "text": [
      "The autoreload extension is already loaded. To reload it, use:\n",
      "  %reload_ext autoreload\n"
     ]
    }
   ],
   "source": [
    "%load_ext autoreload\n",
    "%autoreload 2"
   ]
  },
  {
   "cell_type": "code",
   "execution_count": 160,
   "metadata": {},
   "outputs": [],
   "source": [
    "import torch\n",
    "import numpy as np\n",
    "import matplotlib.pyplot as plt\n",
    "import torch.nn.functional as F\n",
    "import torch.nn as nn\n",
    "import torch.optim as optim\n",
    "import networkx as nx\n",
    "import scipy as sp"
   ]
  },
  {
   "cell_type": "code",
   "execution_count": 161,
   "metadata": {},
   "outputs": [],
   "source": [
    "import utils, dlqr"
   ]
  },
  {
   "cell_type": "code",
   "execution_count": 162,
   "metadata": {},
   "outputs": [
    {
     "data": {
      "text/plain": [
       "tensor([0, 1, 2, 3, 4])"
      ]
     },
     "execution_count": 162,
     "metadata": {},
     "output_type": "execute_result"
    }
   ],
   "source": [
    "a = torch.arange(5)\n",
    "a"
   ]
  },
  {
   "cell_type": "code",
   "execution_count": 163,
   "metadata": {},
   "outputs": [
    {
     "data": {
      "text/plain": [
       "tensor([0, 1, 2, 3, 4])"
      ]
     },
     "execution_count": 163,
     "metadata": {},
     "output_type": "execute_result"
    }
   ],
   "source": [
    "b = a.detach().clone()\n",
    "b"
   ]
  },
  {
   "cell_type": "code",
   "execution_count": 164,
   "metadata": {},
   "outputs": [],
   "source": [
    "b[1] = 10"
   ]
  },
  {
   "cell_type": "code",
   "execution_count": 93,
   "metadata": {},
   "outputs": [
    {
     "data": {
      "text/plain": [
       "tensor([ 0, 10,  2,  3,  4])"
      ]
     },
     "execution_count": 93,
     "metadata": {},
     "output_type": "execute_result"
    }
   ],
   "source": [
    "b"
   ]
  },
  {
   "cell_type": "code",
   "execution_count": 94,
   "metadata": {},
   "outputs": [
    {
     "data": {
      "text/plain": [
       "tensor([0, 1, 2, 3, 4])"
      ]
     },
     "execution_count": 94,
     "metadata": {},
     "output_type": "execute_result"
    }
   ],
   "source": [
    "a"
   ]
  },
  {
   "cell_type": "code",
   "execution_count": 96,
   "metadata": {},
   "outputs": [
    {
     "data": {
      "text/plain": [
       "tensor([0, 1, 2, 3, 4])"
      ]
     },
     "execution_count": 96,
     "metadata": {},
     "output_type": "execute_result"
    }
   ],
   "source": [
    "a"
   ]
  },
  {
   "cell_type": "code",
   "execution_count": 110,
   "metadata": {},
   "outputs": [],
   "source": [
    "G, S, A, B, Q, R = dlqr.generate_lq_env(10, 5, 'cpu')"
   ]
  },
  {
   "cell_type": "code",
   "execution_count": 113,
   "metadata": {},
   "outputs": [
    {
     "data": {
      "text/plain": [
       "tensor([[1., 1., 1., 0., 0., 0., 1., 0., 0., 1.],\n",
       "        [1., 1., 1., 0., 0., 0., 1., 0., 0., 1.],\n",
       "        [1., 1., 1., 0., 0., 0., 1., 1., 1., 1.],\n",
       "        [0., 0., 0., 1., 1., 1., 0., 1., 1., 0.],\n",
       "        [0., 0., 0., 1., 1., 1., 0., 1., 1., 0.],\n",
       "        [0., 0., 0., 1., 1., 1., 0., 1., 1., 0.],\n",
       "        [1., 1., 1., 0., 0., 0., 1., 1., 1., 1.],\n",
       "        [0., 0., 1., 1., 1., 1., 1., 1., 1., 1.],\n",
       "        [0., 0., 1., 1., 1., 1., 1., 1., 1., 1.],\n",
       "        [1., 1., 1., 0., 0., 0., 1., 1., 1., 1.]], dtype=torch.float64,\n",
       "       grad_fn=<DivBackward0>)"
      ]
     },
     "execution_count": 113,
     "metadata": {},
     "output_type": "execute_result"
    }
   ],
   "source": [
    "S.requires_grad_(True) / torch.max(S)"
   ]
  },
  {
   "cell_type": "code",
   "execution_count": 119,
   "metadata": {},
   "outputs": [],
   "source": [
    "xx = torch.rand(S.shape, dtype=torch.double)\n",
    "a = torch.norm(S @ xx)\n",
    "a.backward()"
   ]
  },
  {
   "cell_type": "code",
   "execution_count": 120,
   "metadata": {},
   "outputs": [
    {
     "data": {
      "text/plain": [
       "tensor([[1.1561, 1.0225, 1.1192, 0.4667, 0.3085, 0.3884, 1.0298, 0.4830, 0.3431,\n",
       "         1.1709],\n",
       "        [1.1561, 1.0225, 1.1192, 0.4667, 0.3085, 0.3884, 1.0298, 0.4830, 0.3431,\n",
       "         1.1709],\n",
       "        [1.3743, 1.1717, 1.2687, 0.6583, 0.4484, 0.5119, 1.1636, 1.3389, 1.1577,\n",
       "         1.3462],\n",
       "        [0.5003, 0.3347, 0.3946, 1.0902, 0.9468, 0.9752, 0.3264, 1.1154, 1.0101,\n",
       "         0.4338],\n",
       "        [0.5003, 0.3347, 0.3946, 1.0902, 0.9468, 0.9752, 0.3264, 1.1154, 1.0101,\n",
       "         0.4338],\n",
       "        [0.5003, 0.3347, 0.3946, 1.0902, 0.9468, 0.9752, 0.3264, 1.1154, 1.0101,\n",
       "         0.4338],\n",
       "        [1.3743, 1.1717, 1.2687, 0.6583, 0.4484, 0.5119, 1.1636, 1.3389, 1.1577,\n",
       "         1.3462],\n",
       "        [0.7907, 0.5609, 1.3400, 1.3708, 1.1136, 1.2238, 1.2025, 1.4002, 1.1839,\n",
       "         1.4155],\n",
       "        [0.7907, 0.5609, 1.3400, 1.3708, 1.1136, 1.2238, 1.2025, 1.4002, 1.1839,\n",
       "         1.4155],\n",
       "        [1.3743, 1.1717, 1.2687, 0.6583, 0.4484, 0.5119, 1.1636, 1.3389, 1.1577,\n",
       "         1.3462]], dtype=torch.float64)"
      ]
     },
     "execution_count": 120,
     "metadata": {},
     "output_type": "execute_result"
    }
   ],
   "source": [
    "S.grad"
   ]
  },
  {
   "cell_type": "code",
   "execution_count": 151,
   "metadata": {},
   "outputs": [],
   "source": [
    "S = torch.eye(3, dtype=torch.double).requires_grad_(True)\n",
    "S_inds = (S != 0)\n",
    "xx = torch.rand(S.shape, dtype=torch.double)"
   ]
  },
  {
   "cell_type": "code",
   "execution_count": 158,
   "metadata": {},
   "outputs": [
    {
     "data": {
      "text/plain": [
       "tensor([1., 1., 1.], dtype=torch.float64, grad_fn=<IndexBackward>)"
      ]
     },
     "execution_count": 158,
     "metadata": {},
     "output_type": "execute_result"
    }
   ],
   "source": [
    "S[S_inds]"
   ]
  },
  {
   "cell_type": "code",
   "execution_count": 152,
   "metadata": {},
   "outputs": [],
   "source": [
    "torch.norm(torch.tanh((S @ xx)) @ xx).backward()"
   ]
  },
  {
   "cell_type": "code",
   "execution_count": 153,
   "metadata": {},
   "outputs": [
    {
     "data": {
      "text/plain": [
       "tensor([[0.3368, 0.4895, 0.3032],\n",
       "        [0.5111, 0.4876, 0.4780],\n",
       "        [0.3784, 0.5265, 0.3250]], dtype=torch.float64)"
      ]
     },
     "execution_count": 153,
     "metadata": {},
     "output_type": "execute_result"
    }
   ],
   "source": [
    "S.grad"
   ]
  },
  {
   "cell_type": "code",
   "execution_count": 155,
   "metadata": {},
   "outputs": [],
   "source": [
    "ss = torch.ones(3, dtype=torch.double).requires_grad_(True)\n",
    "smat = torch.zeros(S.shape, dtype=torch.double)\n",
    "smat[S_inds] = ss"
   ]
  },
  {
   "cell_type": "code",
   "execution_count": 156,
   "metadata": {},
   "outputs": [],
   "source": [
    "torch.norm(torch.tanh((smat @ xx)) @ xx).backward()"
   ]
  },
  {
   "cell_type": "code",
   "execution_count": 157,
   "metadata": {},
   "outputs": [
    {
     "data": {
      "text/plain": [
       "tensor([0.3368, 0.4876, 0.3250], dtype=torch.float64)"
      ]
     },
     "execution_count": 157,
     "metadata": {},
     "output_type": "execute_result"
    }
   ],
   "source": [
    "ss.grad"
   ]
  }
 ],
 "metadata": {
  "kernelspec": {
   "display_name": "general",
   "language": "python",
   "name": "general"
  },
  "language_info": {
   "codemirror_mode": {
    "name": "ipython",
    "version": 3
   },
   "file_extension": ".py",
   "mimetype": "text/x-python",
   "name": "python",
   "nbconvert_exporter": "python",
   "pygments_lexer": "ipython3",
   "version": "3.8.5"
  }
 },
 "nbformat": 4,
 "nbformat_minor": 4
}
